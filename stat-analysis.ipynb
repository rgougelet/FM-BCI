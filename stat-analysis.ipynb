{
 "cells": [
  {
   "cell_type": "code",
   "execution_count": 1,
   "metadata": {
    "collapsed": false
   },
   "outputs": [],
   "source": [
    "#%pylab inline\n",
    "#%config InlineBackend.figure_format = 'retina' "
   ]
  },
  {
   "cell_type": "code",
   "execution_count": 2,
   "metadata": {
    "collapsed": false
   },
   "outputs": [],
   "source": [
    "#here are some common modules:\n",
    "import scipy as sp #library of scientific functions\n",
    "import scipy.io \n",
    "import scipy.signal as signal\n",
    "import numpy as np #library of math functions\n",
    "import pandas as pd #library of data analysis functions\n",
    "import matplotlib.pyplot as plt #functions to plot data\n",
    "import os #This lets python talk to your opperating system to open and save files.\n",
    "from parabolic import parabolic\n",
    "import matplotlib.mlab as mlab\n",
    "from mpl_toolkits.mplot3d import Axes3D"
   ]
  },
  {
   "cell_type": "code",
   "execution_count": 3,
   "metadata": {
    "collapsed": false
   },
   "outputs": [],
   "source": [
    "filename = 'emodat.mat' #adjut file name here\n",
    "filename = os.path.join('../FM-BCI', filename) #adjust filepath \n",
    "datafile = sp.io.loadmat(filename) #loading filename\n",
    "#print datafile.keys()\n",
    "voltageSamples = datafile['data'] \n",
    "#print voltageSamples.shape, len(voltageSamples)"
   ]
  },
  {
   "cell_type": "code",
   "execution_count": 4,
   "metadata": {
    "collapsed": false
   },
   "outputs": [],
   "source": [
    "variances = []\n",
    "means = []\n",
    "medians = []\n",
    "standardDeviations = []\n",
    "for i in range(len(voltageSamples)):\n",
    "    variances.append(np.var(voltageSamples[i,:]))\n",
    "    means.append(np.mean(voltageSamples[i,:]))\n",
    "    medians.append(np.median(voltageSamples[i,:]))\n",
    "    standardDeviations.append(np.std(voltageSamples[i,:]))"
   ]
  },
  {
   "cell_type": "code",
   "execution_count": 5,
   "metadata": {
    "collapsed": false
   },
   "outputs": [
    {
     "name": "stdout",
     "output_type": "stream",
     "text": [
      "Channel 1\n",
      "\tmean: 53.5051604742\n",
      "\tmedian: 8.42684103561\n",
      "\tstandard deviation: 105.317167517\n",
      "\tvariance: 11091.7057739\n"
     ]
    }
   ],
   "source": [
    "for i in range(len(voltageSamples)):\n",
    "    print 'Channel', i+1\n",
    "    print '\\tmean:', means[i]\n",
    "    print '\\tmedian:', medians[i]\n",
    "    print '\\tstandard deviation:', standardDeviations[i]\n",
    "    print '\\tvariance:', np.var(voltageSamples)"
   ]
  },
  {
   "cell_type": "code",
   "execution_count": 6,
   "metadata": {
    "collapsed": false
   },
   "outputs": [],
   "source": [
    "fig1 = plt.figure(1, figsize=(9,6))\n",
    "numBins = 50\n",
    "n, bins, patches = plt.hist(voltageSamples[0],numBins,alpha=0.8)\n"
   ]
  },
  {
   "cell_type": "code",
   "execution_count": 7,
   "metadata": {
    "collapsed": false
   },
   "outputs": [
    {
     "data": {
      "text/plain": [
       "[<matplotlib.lines.Line2D at 0x10be83750>]"
      ]
     },
     "execution_count": 7,
     "metadata": {},
     "output_type": "execute_result"
    }
   ],
   "source": [
    "fig2 = plt.figure(2, figsize=(9,6))\n",
    "plt.plot(voltageSamples[0])\n"
   ]
  },
  {
   "cell_type": "code",
   "execution_count": 8,
   "metadata": {
    "collapsed": false
   },
   "outputs": [
    {
     "name": "stdout",
     "output_type": "stream",
     "text": [
      "Channel weights: \n",
      "\n",
      "         1     1.0\n",
      "         2     0.875\n",
      "         3     0.75\n",
      "         4     0.625\n",
      "         5     0.5\n",
      "         6     0.375\n",
      "         7     0.25\n",
      "         8     0.125\n"
     ]
    }
   ],
   "source": [
    "sampleRate = 512 # sample rate assumed during recording\n",
    "sampleSpacing = 1.0 / sampleRate # time between samples in seconds\n",
    "dataLengthSecs = 30 # length of whole recording\n",
    "dataLengthSamples = dataLengthSecs*sampleRate # length of whole recording in samples\n",
    "\n",
    "t = np.arange(0,dataLengthSecs,sampleSpacing) # time vector spanning length in seconds, with approp. num of samples\n",
    "#numOfChannel = voltageSamples.shape[0] # determine number of channels from data, i.e. not predefined\n",
    "numOfChannel = 8\n",
    "voltageSamples = np.empty([numOfChannel, dataLengthSamples])\n",
    "\n",
    "# channel weighting\n",
    "channelWeights = np.linspace(1,1./numOfChannel,numOfChannel) \n",
    "#np.random.shuffle(channelWeights)\n",
    "print 'Channel weights:', '\\n'\n",
    "for channelIndex in range(numOfChannel):\n",
    "    print \"        \", channelIndex+1, \"   \", channelWeights[channelIndex]\n",
    "    \n",
    "# frequency modulation parameters\n",
    "alphaCenter = 10.25   # Hz the carrier frequency\n",
    "alphaModFreq = 1  # Hz the modulating frequency\n",
    "alphaFreqDev = 4   # Hz of the frequency deviation\n",
    "\n",
    "# signal to noise parameters\n",
    "snr = 2             # signal / noise\n",
    "noiseMean = 0\n",
    "noiseStdDev = 0.5\n",
    "alphaMean = 0\n",
    "alphaStdDev = abs(np.sqrt(snr*(noiseStdDev**2))) # std of sine wave\n",
    "alphaAmp = np.sqrt(2)*alphaStdDev\n",
    "h = alphaFreqDev/alphaModFreq         # Modulation index\n",
    "\n",
    "# Constructs 1/f noise by iteratively adding normal random noise, effectively the CDF of normal dist.\n",
    "normalNoise = np.random.normal(noiseMean, noiseStdDev, (1,dataLengthSamples))\n",
    "pinkNoise = np.cumsum(normalNoise)\n",
    "\n",
    "# Frequency modulated alpha rhythm, a sinusoidal baseband signal\n",
    "alpha = alphaAmp*np.sin( alphaCenter  * 2.0 * np.pi * t + alphaFreqDev*np.sin(2 * np.pi * alphaModFreq * t) / alphaModFreq)\n",
    "\n",
    "# assign the weighted alpha rhythm + 1/f noise + additional random noise to each channel in sample\n",
    "for channelIndex in range(0,numOfChannel):\n",
    "    voltageSamples[channelIndex,:] = channelWeights[channelIndex]*alpha + pinkNoise + 0.5*np.random.random([1,dataLengthSamples])    \n",
    "voltageSamples[channelIndex,:] = alpha # change last channel to ground truth alpha\n",
    "\n",
    "fig3 = plt.figure(3, figsize=(9,6))\n",
    "\n",
    "channelArray = np.vsplit(voltageSamples,1)\n",
    "for channelIndex in range(0,numOfChannel):\n",
    "    plt.plot(voltageSamples[channelIndex,1:sampleRate])\n",
    "\n"
   ]
  },
  {
   "cell_type": "code",
   "execution_count": 47,
   "metadata": {
    "collapsed": false
   },
   "outputs": [],
   "source": [
    "def butter_bandpass(lowcut, highcut, fs, order=4):\n",
    "        #lowcut is the lower bound of the frequency that we want to isolate\n",
    "        #hicut is the upper bound of the frequency that we want to isolate\n",
    "        #fs is the sampling rate of our data\n",
    "        nyq = 0.5 * fs #nyquist frequency - see http://www.dspguide.com/ if you want more info\n",
    "        low = float(lowcut) / nyq\n",
    "        high = float(highcut) / nyq\n",
    "        b, a = sp.signal.butter(order, [low, high], btype='band')\n",
    "        return b, a\n",
    "\n",
    "def butter_bandpass_filter(mydata, lowcut, highcut, fs, order=4):\n",
    "    b, a = butter_bandpass(lowcut, highcut, fs, order=order)\n",
    "    y = sp.signal.filtfilt(b, a, mydata)\n",
    "    return y\n",
    "\n",
    "#winLengthSecs = 1 # predefine length of window.\n",
    "#winLengthSamples = winLengthSecs*sampleRate # length of window in samples\n",
    "#numOfWindows = int(dataLengthSamples/winLengthSamples) # determine number of windows\n",
    "#channelPeaks = np.empty([numOfChannel, numOfWindows]) # container for peak frequencies for each channel every second\n",
    "desiredFreqResolution = 0.1 # predefine resolution of spectrum\n",
    "#fftLengthSamples = int(sampleRate/desiredFreqResolution)\n",
    "#nyq = 0.5*sampleRate # maximum possible frequency to measure\n",
    "#freqs = scipy.fftpack.rfftfreq(fftLengthSamples,sampleSpacing) # retrieve frequency axis\n",
    "\n",
    "bandLow = 9.5                                # lower alpha band \n",
    "bandHigh = 10.5                              # higher alpha band\n",
    "orderFilter = 4  \n",
    "\n",
    "# Universal FFT parameters\n",
    "sampleRate = float(sampleRate)\n",
    "numOfChannel = voltageSamples.shape[0]\n",
    "dataLengthSamples = voltageSamples.shape[1]\n",
    "dataLengthSecs = dataLengthSamples / sampleRate\n",
    "sampleSpacing = 1.0/sampleRate        \n",
    "nyq = 0.5 * sampleRate\n",
    "fftLengthSamples = int(sampleRate/desiredFreqResolution)\n",
    "freqs = np.fft.rfftfreq(fftLengthSamples,sampleSpacing)\n",
    "winLengthSamples = 512\n",
    "overlapSamples = 0\n",
    "stepSize = winLengthSamples\n",
    "\n",
    "medianSpecMat = np.empty([numOfChannel, len(freqs)])\n",
    "for channelIndex in range(numOfChannel):\n",
    "    winSpectra = np.empty(len(freqs))\n",
    "    stepIndex = 0\n",
    "    stepIndex = 0\n",
    "    winStart = 0\n",
    "    while winStart + winLengthSamples < dataLengthSamples:\n",
    "        # get next window\n",
    "        winStart = stepIndex*stepSize\n",
    "        winStop = winStart + winLengthSamples\n",
    "        voltageSamplesWin = voltageSamples[channelIndex,winStart:winStop]\n",
    "\n",
    "        # detrend\n",
    "        voltageSamplesWin = signal.detrend(voltageSamplesWin, axis=-1, type='linear')\n",
    "\n",
    "        # window window\n",
    "        windowedWin = voltageSamplesWin * signal.hanning(winLengthSamples)\n",
    "\n",
    "        # compute fft\n",
    "        amp = abs(np.fft.rfft(windowedWin,fftLengthSamples))\n",
    "        winSpectra = np.c_[winSpectra,amp]\n",
    "        stepIndex+=1\n",
    "    winSpectra = winSpectra.T\n",
    "    if channelIndex == 0:\n",
    "        arrayOfAmps = winSpectra\n",
    "        numOfWindows = stepIndex+1\n",
    "    else:\n",
    "        arrayOfAmps= np.dstack([arrayOfAmps, winSpectra])\n",
    "arrayOfAmps = np.reshape(arrayOfAmps,(numOfChannel,numOfWindows,len(freqs)))"
   ]
  },
  {
   "cell_type": "code",
   "execution_count": 48,
   "metadata": {
    "collapsed": false
   },
   "outputs": [],
   "source": [
    "#print np.median(channelPeaks,1)\n",
    "#print np.mean(channelPeaks,1)"
   ]
  },
  {
   "cell_type": "code",
   "execution_count": 49,
   "metadata": {
    "collapsed": false
   },
   "outputs": [],
   "source": [
    "#chPeakVariances = []\n",
    "#chPeakMeans = []\n",
    "#chPeakMedians = []\n",
    "#chPeakStandardDeviations = []\n",
    "#for i in range(len(channelPeaks)):\n",
    "#    chPeakVariances.append(np.var(channelPeaks[i,:]))\n",
    "#    chPeakMeans.append(np.mean(channelPeaks[i,:]))\n",
    "#   chPeakMedians.append(np.median(channelPeaks[i,:]))\n",
    "#    chPeakStandardDeviations.append(np.std(channelPeaks[i,:]))"
   ]
  },
  {
   "cell_type": "code",
   "execution_count": 50,
   "metadata": {
    "collapsed": false
   },
   "outputs": [],
   "source": [
    "#for i in range(len(channelPeaks)):\n",
    "#    print 'Channel ' + str(i+1) + ' Peaks'\n",
    "#    print '\\tmean:', chPeakMeans[i]\n",
    "#    print '\\tmedian:', chPeakMedians[i]\n",
    "#    print '\\tstandard deviation:', chPeakStandardDeviations[i]\n",
    "#    print '\\tvariance:', chPeakVariances[i]"
   ]
  },
  {
   "cell_type": "code",
   "execution_count": 51,
   "metadata": {
    "collapsed": false
   },
   "outputs": [],
   "source": [
    "# Do this for all channels, one figure using subplot, each channel with its own subplot\n",
    "#fig4 = plt.figure(4, figsize=(9,9))\n",
    "#numBins = 50\n",
    "\n",
    "#for channelIndex in range(0, numOfChannel):\n",
    "#    plt.subplot(np.ceil(np.sqrt(numOfChannel)),np.ceil(np.sqrt(numOfChannel)),channelIndex)\n",
    "#    n, bins, patches = plt.hist(channelPeaks[channelIndex],numBins,alpha=0.8)\n",
    "#    y = mlab.normpdf( bins, chPeakMeans[channelIndex],chPeakStandardDeviations[channelIndex] )\n",
    "#    l = plt.plot(bins, y, 'r--', linewidth=2)\n",
    "\n",
    "#for channelIndex in range(0, numOfChannel):\n",
    "    \n",
    "#n, bins, patches = plt.hist(channelPeaks[7],numBins,alpha=0.8)"
   ]
  },
  {
   "cell_type": "code",
   "execution_count": 55,
   "metadata": {
    "collapsed": false
   },
   "outputs": [
    {
     "name": "stdout",
     "output_type": "stream",
     "text": [
      "(31, 2561)\n",
      "(31, 2561)\n",
      "[[  1.72723371e-077   1.57978676e+002   1.56760296e+002 ...,\n",
      "    3.09257069e+001   3.18922799e+001   4.45619116e-313]\n",
      " [  3.05928127e+001   3.24104518e+001   3.18392577e+001 ...,\n",
      "    4.94887448e+000   2.18706562e-314   4.82188542e+000]\n",
      " [  7.00423874e+000   2.52593076e+000   4.11925410e+000 ...,\n",
      "    9.48606040e-322   5.41591024e+000   3.11607071e+000]\n",
      " ..., \n",
      " [  5.14943592e+000   3.32936706e+000   2.96115706e+000 ...,\n",
      "    6.00875918e+000   6.10927058e+000   4.92236972e+000]\n",
      " [  5.57504247e+000   5.21216697e+000   1.23446635e-005 ...,\n",
      "    3.57928203e+000   6.94073984e+000   4.69605274e+000]\n",
      " [  7.78647705e+000   5.89897439e-006   3.88583303e+000 ...,\n",
      "    1.86421768e+000   1.64570150e+000   2.23874770e-001]]\n"
     ]
    }
   ],
   "source": [
    "# plot amp for each channel\n",
    "#for each channel\n",
    "    #for each window\n",
    "        #plot 3d figure with time on horizontal, freqs on vertical, and winAmp as the fluctuating value\n",
    "fig5 = plt.figure(5, figsize=(6,6))\n",
    "\n",
    "#plt.plot(arrayOfAmps[0,1,:])\n",
    "#plt.show()\n",
    "#print arrayOfAmps[0][0]\n",
    "#ax = Axes3D(fig5)\n",
    "ax = plt.axes(projection='3d')\n",
    "#for channelIndex in range(0, numOfChannel):\n",
    "#print np.shape(arrayOfAmps[0])\n",
    "x = range(0,numOfWindows)\n",
    "y = freqs\n",
    "X,Y = np.meshgrid(x,y)\n",
    "X,Y = X.T,Y.T\n",
    "print np.shape(X)\n",
    "print np.shape(Y)\n",
    "Z = arrayOfAmps[0]\n",
    "print Z\n",
    "Z = Z.reshape(Y.shape)\n",
    "ax.plot_surface(X,Y,Z)\n",
    "#plt.ylim(0,12)\n",
    "plt.show()\n",
    "#for winIndex in range(0, numOfWindows):\n",
    "    \n",
    "    #for lengthOfAmps in range(0, len(freqs)):\n",
    "         #   plt.subplot(ceil(sqrt(numOfChannel)),ceil(sqrt(numOfChannel)),lengthOfAmps)\n",
    "#        ax.plot_surface( arrayOfAmps[0], arrayOfAmps[0][winIndex], arrayOfAmps[0][winIndex][lengthOfAmps] ,  cmap=plt.cm.jet, rstride=1, cstride=1, linewidth=0)    \n",
    "\n",
    "#for zIndex in range(0, len(freqs)):\n",
    "#   ax.plot(arrayOfAmps[channelIndex][winIndex], arrayOfAmps[channelIndex], arrayOfAmps[channelIndex][winIndex][zIndex])"
   ]
  },
  {
   "cell_type": "code",
   "execution_count": null,
   "metadata": {
    "collapsed": true
   },
   "outputs": [],
   "source": []
  }
 ],
 "metadata": {
  "kernelspec": {
   "display_name": "Python 2",
   "language": "python",
   "name": "python2"
  },
  "language_info": {
   "codemirror_mode": {
    "name": "ipython",
    "version": 2
   },
   "file_extension": ".py",
   "mimetype": "text/x-python",
   "name": "python",
   "nbconvert_exporter": "python",
   "pygments_lexer": "ipython2",
   "version": "2.7.10"
  }
 },
 "nbformat": 4,
 "nbformat_minor": 0
}
