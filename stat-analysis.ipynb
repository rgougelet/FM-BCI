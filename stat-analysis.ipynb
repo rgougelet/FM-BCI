{
 "cells": [
  {
   "cell_type": "code",
   "execution_count": null,
   "metadata": {
    "collapsed": false
   },
   "outputs": [],
   "source": [
    "#%pylab inline\n",
    "#%config InlineBackend.figure_format = 'retina' "
   ]
  },
  {
   "cell_type": "code",
   "execution_count": 1,
   "metadata": {
    "collapsed": false
   },
   "outputs": [],
   "source": [
    "#here are some common modules:\n",
    "import scipy as sp #library of scientific functions\n",
    "import scipy.io \n",
    "import scipy.signal as signal\n",
    "import numpy as np #library of math functions\n",
    "import pandas as pd #library of data analysis functions\n",
    "import matplotlib.pyplot as plt #functions to plot data\n",
    "import os #This lets python talk to your opperating system to open and save files.\n",
    "from parabolic import parabolic\n",
    "import matplotlib.mlab as mlab\n",
    "from mpl_toolkits.mplot3d import Axes3D"
   ]
  },
  {
   "cell_type": "code",
   "execution_count": 2,
   "metadata": {
    "collapsed": false
   },
   "outputs": [],
   "source": [
    "filename = 'emodat.mat' #adjut file name here\n",
    "filename = os.path.join('../FM-BCI', filename) #adjust filepath \n",
    "datafile = sp.io.loadmat(filename) #loading filename\n",
    "#print datafile.keys()\n",
    "voltageSamples = datafile['data'] \n",
    "#print voltageSamples.shape, len(voltageSamples)"
   ]
  },
  {
   "cell_type": "code",
   "execution_count": 3,
   "metadata": {
    "collapsed": false
   },
   "outputs": [],
   "source": [
    "variances = []\n",
    "means = []\n",
    "medians = []\n",
    "standardDeviations = []\n",
    "for i in range(len(voltageSamples)):\n",
    "    variances.append(np.var(voltageSamples[i,:]))\n",
    "    means.append(np.mean(voltageSamples[i,:]))\n",
    "    medians.append(np.median(voltageSamples[i,:]))\n",
    "    standardDeviations.append(np.std(voltageSamples[i,:]))"
   ]
  },
  {
   "cell_type": "code",
   "execution_count": 4,
   "metadata": {
    "collapsed": false
   },
   "outputs": [
    {
     "name": "stdout",
     "output_type": "stream",
     "text": [
      "Channel 1\n",
      "\tmean: 53.5051604742\n",
      "\tmedian: 8.42684103561\n",
      "\tstandard deviation: 105.317167517\n",
      "\tvariance: 11091.7057739\n"
     ]
    }
   ],
   "source": [
    "for i in range(len(voltageSamples)):\n",
    "    print 'Channel', i+1\n",
    "    print '\\tmean:', means[i]\n",
    "    print '\\tmedian:', medians[i]\n",
    "    print '\\tstandard deviation:', standardDeviations[i]\n",
    "    print '\\tvariance:', np.var(voltageSamples)"
   ]
  },
  {
   "cell_type": "code",
   "execution_count": 5,
   "metadata": {
    "collapsed": false
   },
   "outputs": [],
   "source": [
    "fig1 = plt.figure(1, figsize=(9,6))\n",
    "numBins = 50\n",
    "n, bins, patches = plt.hist(voltageSamples[0],numBins,alpha=0.8)\n"
   ]
  },
  {
   "cell_type": "code",
   "execution_count": 7,
   "metadata": {
    "collapsed": false
   },
   "outputs": [],
   "source": [
    "fig2 = plt.figure(2, figsize=(9,6))\n",
    "plt.plot(voltageSamples[0])\n",
    "plt.show()"
   ]
  },
  {
   "cell_type": "code",
   "execution_count": 8,
   "metadata": {
    "collapsed": false
   },
   "outputs": [
    {
     "name": "stdout",
     "output_type": "stream",
     "text": [
      "Channel weights: \n",
      "\n",
      "         1     1.0\n",
      "         2     0.875\n",
      "         3     0.75\n",
      "         4     0.625\n",
      "         5     0.5\n",
      "         6     0.375\n",
      "         7     0.25\n",
      "         8     0.125\n"
     ]
    }
   ],
   "source": [
    "sampleRate = 512 # sample rate assumed during recording\n",
    "sampleSpacing = 1.0 / sampleRate # time between samples in seconds\n",
    "dataLengthSecs = 5 # length of whole recording\n",
    "dataLengthSamples = dataLengthSecs*sampleRate # length of whole recording in samples\n",
    "\n",
    "t = np.arange(0,dataLengthSecs,sampleSpacing) # time vector spanning length in seconds, with approp. num of samples\n",
    "#numOfChannel = voltageSamples.shape[0] # determine number of channels from data, i.e. not predefined\n",
    "numOfChannel = 8\n",
    "voltageSamples = np.empty([numOfChannel, dataLengthSamples])\n",
    "\n",
    "# channel weighting\n",
    "channelWeights = np.linspace(1,1./numOfChannel,numOfChannel) \n",
    "#np.random.shuffle(channelWeights)\n",
    "print 'Channel weights:', '\\n'\n",
    "for channelIndex in range(numOfChannel):\n",
    "    print \"        \", channelIndex+1, \"   \", channelWeights[channelIndex]\n",
    "    \n",
    "# frequency modulation parameters\n",
    "alphaCenter = 10.25   # Hz the carrier frequency\n",
    "alphaModFreq = 1  # Hz the modulating frequency\n",
    "alphaFreqDev = 4   # Hz of the frequency deviation\n",
    "\n",
    "# signal to noise parameters\n",
    "snr = 2             # signal / noise\n",
    "noiseMean = 0\n",
    "noiseStdDev = 0.5\n",
    "alphaMean = 0\n",
    "alphaStdDev = abs(np.sqrt(snr*(noiseStdDev**2))) # std of sine wave\n",
    "alphaAmp = np.sqrt(2)*alphaStdDev\n",
    "h = alphaFreqDev/alphaModFreq         # Modulation index\n",
    "\n",
    "# Constructs 1/f noise by iteratively adding normal random noise, effectively the CDF of normal dist.\n",
    "normalNoise = np.random.normal(noiseMean, noiseStdDev, (1,dataLengthSamples))\n",
    "pinkNoise = np.cumsum(normalNoise)\n",
    "\n",
    "# Frequency modulated alpha rhythm, a sinusoidal baseband signal\n",
    "alpha = alphaAmp*np.sin( alphaCenter  * 2.0 * np.pi * t + alphaFreqDev*np.sin(2 * np.pi * alphaModFreq * t) / alphaModFreq)\n",
    "\n",
    "# assign the weighted alpha rhythm + 1/f noise + additional random noise to each channel in sample\n",
    "for channelIndex in range(0,numOfChannel):\n",
    "    voltageSamples[channelIndex,:] = channelWeights[channelIndex]*alpha + pinkNoise + 0.5*np.random.random([1,dataLengthSamples])    \n",
    "voltageSamples[channelIndex,:] = alpha # change last channel to ground truth alpha\n",
    "\n",
    "fig3 = plt.figure(3, figsize=(9,6))\n",
    "\n",
    "channelArray = np.vsplit(voltageSamples,1)\n",
    "for channelIndex in range(0,numOfChannel):\n",
    "    plt.plot(voltageSamples[channelIndex,1:sampleRate])\n",
    "plt.show()\n"
   ]
  },
  {
   "cell_type": "code",
   "execution_count": 26,
   "metadata": {
    "collapsed": false
   },
   "outputs": [
    {
     "name": "stdout",
     "output_type": "stream",
     "text": [
      "Channel 1, Window 1:     10.4498185328  10.5\n",
      "Channel 1, Window 2:     9.94973331214  10.0\n",
      "Channel 1, Window 3:     10.1496130284  10.2\n",
      "Channel 1, Window 4:     10.5499018677  10.6\n",
      "Channel 1, Window 5:     10.1499252617  10.2\n",
      "Channel 2, Window 1:     9.34968223803  9.4\n",
      "Channel 2, Window 2:     9.94966636794  10.0\n",
      "Channel 2, Window 3:     10.1496502711  10.2\n",
      "Channel 2, Window 4:     10.5499553528  10.6\n",
      "Channel 2, Window 5:     10.1498427601  10.2\n",
      "Channel 3, Window 1:     9.34948729008  9.4\n",
      "Channel 3, Window 2:     9.94966850585  10.0\n",
      "Channel 3, Window 3:     10.1496577704  10.2\n",
      "Channel 3, Window 4:     10.4494004261  10.5\n",
      "Channel 3, Window 5:     10.1497758156  10.2\n",
      "Channel 4, Window 1:     9.34947296664  9.4\n",
      "Channel 4, Window 2:     9.94968518538  10.0\n",
      "Channel 4, Window 3:     10.1496950034  10.2\n",
      "Channel 4, Window 4:     10.4496260504  10.5\n",
      "Channel 4, Window 5:     10.1496587218  10.2\n",
      "Channel 5, Window 1:     9.34962279307  9.4\n",
      "Channel 5, Window 2:     9.94973134887  10.0\n",
      "Channel 5, Window 3:     10.1497420406  10.2\n",
      "Channel 5, Window 4:     9.39999209462  9.5\n",
      "Channel 5, Window 5:     10.2498903518  10.3\n",
      "Channel 6, Window 1:     9.34909138041  9.4\n",
      "Channel 6, Window 2:     9.94948462462  10.0\n",
      "Channel 6, Window 3:     10.1497576411  10.2\n",
      "Channel 6, Window 4:     9.39991304351  9.5\n",
      "Channel 6, Window 5:     9.59998705651  9.7\n",
      "Channel 7, Window 1:     9.34911542604  9.4\n",
      "Channel 7, Window 2:     9.9492763737  10.0\n",
      "Channel 7, Window 3:     10.149848833  10.2\n",
      "Channel 7, Window 4:     9.39991687185  9.5\n",
      "Channel 7, Window 5:     9.59992782505  9.7\n",
      "Channel 8, Window 1:     10.2499622677  10.3\n",
      "Channel 8, Window 2:     10.0981820401  10.2\n",
      "Channel 8, Window 3:     10.2499159276  10.3\n",
      "Channel 8, Window 4:     10.097846659  10.2\n",
      "Channel 8, Window 5:     9.94991537475  10.0\n"
     ]
    }
   ],
   "source": [
    "def butter_bandpass(lowcut, highcut, fs, order=4):\n",
    "        #lowcut is the lower bound of the frequency that we want to isolate\n",
    "        #hicut is the upper bound of the frequency that we want to isolate\n",
    "        #fs is the sampling rate of our data\n",
    "        nyq = 0.5 * fs #nyquist frequency - see http://www.dspguide.com/ if you want more info\n",
    "        low = float(lowcut) / nyq\n",
    "        high = float(highcut) / nyq\n",
    "        b, a = sp.signal.butter(order, [low, high], btype='band')\n",
    "        return b, a\n",
    "\n",
    "def butter_bandpass_filter(mydata, lowcut, highcut, fs, order=4):\n",
    "    b, a = butter_bandpass(lowcut, highcut, fs, order=order)\n",
    "    y = sp.signal.filtfilt(b, a, mydata)\n",
    "    return y\n",
    "\n",
    "winLengthSecs = 1 # predefine length of window.\n",
    "winLengthSamples = winLengthSecs*sampleRate # length of window in samples\n",
    "numOfWindows = int(dataLengthSamples/winLengthSamples) # determine number of windows\n",
    "channelPeaks = np.empty([numOfChannel, numOfWindows]) # container for peak frequencies for each channel every second\n",
    "desiredFreqResolution = 0.1 # predefine resolution of spectrum\n",
    "fftLengthSamples = int(sampleRate/desiredFreqResolution)\n",
    "nyq = 0.5*sampleRate # maximum possible frequency to measure\n",
    "freqs = scipy.fftpack.rfftfreq(fftLengthSamples,sampleSpacing) # retrieve frequency axis\n",
    "\n",
    "bandLow = 9.5                                # lower alpha band \n",
    "bandHigh = 10.5                              # higher alpha band\n",
    "orderFilter = 4  \n",
    "\n",
    "arrayOfAmps = np.empty([numOfChannel, numOfWindows, len(freqs)])\n",
    "\n",
    "for channelIndex in range(0,numOfChannel):\n",
    "    for winIndex in range(0,numOfWindows):\n",
    "        channelVoltage = voltageSamples[channelIndex,:]\n",
    "        channelVoltageFilt = butter_bandpass_filter(channelVoltage, bandLow, bandHigh,sampleRate,orderFilter)\n",
    "            \n",
    "        # get next window of data, detrend\n",
    "        winStart = int(winIndex*winLengthSecs*sampleRate)\n",
    "        winEnd = int((winIndex+1)*winLengthSecs*sampleRate)\n",
    "        channelVoltageWin = channelVoltageFilt[winStart:winEnd] - np.mean(channelVoltageFilt[winStart:winEnd])\n",
    "        \n",
    "        # window next window of data\n",
    "        winLengthSamples = len(channelVoltageWin) # determine window length\n",
    "        #windowed = channelVoltage * signal.blackmanharris(winLengthSamples)\n",
    "        windowedWin = channelVoltageWin * signal.gaussian(winLengthSamples, std=8,sym=False)\n",
    "       \n",
    "        # compute fft\n",
    "        #TODO Populate new 3D array of shape numOfChannelxnumOfWindowsxlen(winAmp) with amp values\n",
    "        winAmp = abs(scipy.fftpack.rfft(channelVoltageWin,fftLengthSamples)) # determine amplitude spectrum by taking abs\n",
    "        arrayOfAmps[channelIndex, winIndex,:] = winAmp\n",
    "\n",
    "        # find peak frequency\n",
    "        maxAmplitudeIndex = np.argmax(winAmp) # finds simple max amp peak\n",
    "        true_maxAmplitudeIndex = parabolic(np.log(winAmp), maxAmplitudeIndex-1)[0] # finds parabolic interpolation\n",
    "        maxFreq = freqs[int(maxAmplitudeIndex)] # retrieves frequency of peak\n",
    "        true_maxFreq = nyq * true_maxAmplitudeIndex / fftLengthSamples # retrieves frequency of parabolic peak\n",
    "        print('Channel '+str(channelIndex+1)+ ', Window '+str(winIndex+1)+':     '+str(true_maxFreq)+'  '+str(maxFreq))\n",
    "        channelPeaks[channelIndex,winIndex] = true_maxFreq # stores peak frequency for every window"
   ]
  },
  {
   "cell_type": "code",
   "execution_count": 27,
   "metadata": {
    "collapsed": false
   },
   "outputs": [
    {
     "name": "stdout",
     "output_type": "stream",
     "text": [
      "[ 10.14992526  10.14965027  10.14965777  10.14965872   9.94973135\n",
      "   9.59998706   9.59992783  10.09818204]\n",
      "[ 10.2497984   10.0297594   10.00959796  10.00962759   9.81979573\n",
      "   9.68964675   9.68961707  10.12916445]\n"
     ]
    }
   ],
   "source": [
    "print np.median(channelPeaks,1)\n",
    "print np.mean(channelPeaks,1)"
   ]
  },
  {
   "cell_type": "code",
   "execution_count": 28,
   "metadata": {
    "collapsed": false
   },
   "outputs": [],
   "source": [
    "chPeakVariances = []\n",
    "chPeakMeans = []\n",
    "chPeakMedians = []\n",
    "chPeakStandardDeviations = []\n",
    "for i in range(len(channelPeaks)):\n",
    "    chPeakVariances.append(np.var(channelPeaks[i,:]))\n",
    "    chPeakMeans.append(np.mean(channelPeaks[i,:]))\n",
    "    chPeakMedians.append(np.median(channelPeaks[i,:]))\n",
    "    chPeakStandardDeviations.append(np.std(channelPeaks[i,:]))"
   ]
  },
  {
   "cell_type": "code",
   "execution_count": 29,
   "metadata": {
    "collapsed": false
   },
   "outputs": [
    {
     "name": "stdout",
     "output_type": "stream",
     "text": [
      "Channel 1 Peaks\n",
      "\tmean: 10.2497984006\n",
      "\tmedian: 10.1499252617\n",
      "\tstandard deviation: 0.219144223864\n",
      "\tvariance: 0.048024190853\n",
      "Channel 2 Peaks\n",
      "\tmean: 10.029759398\n",
      "\tmedian: 10.1496502711\n",
      "\tstandard deviation: 0.391999363178\n",
      "\tvariance: 0.153663500732\n",
      "Channel 3 Peaks\n",
      "\tmean: 10.0095979616\n",
      "\tmedian: 10.1496577704\n",
      "\tstandard deviation: 0.366614355106\n",
      "\tvariance: 0.13440608537\n",
      "Channel 4 Peaks\n",
      "\tmean: 10.0096275855\n",
      "\tmedian: 10.1496587218\n",
      "\tstandard deviation: 0.366667004776\n",
      "\tvariance: 0.134444692391\n",
      "Channel 5 Peaks\n",
      "\tmean: 9.81979572579\n",
      "\tmedian: 9.94973134887\n",
      "\tstandard deviation: 0.37630490284\n",
      "\tvariance: 0.141605379901\n",
      "Channel 6 Peaks\n",
      "\tmean: 9.68964674922\n",
      "\tmedian: 9.59998705651\n",
      "\tstandard deviation: 0.3121474633\n",
      "\tvariance: 0.0974360388444\n",
      "Channel 7 Peaks\n",
      "\tmean: 9.68961706593\n",
      "\tmedian: 9.59992782505\n",
      "\tstandard deviation: 0.312137138036\n",
      "\tvariance: 0.0974295929411\n",
      "Channel 8 Peaks\n",
      "\tmean: 10.1291644538\n",
      "\tmedian: 10.0981820401\n",
      "\tstandard deviation: 0.112466863415\n",
      "\tvariance: 0.0126487953664\n"
     ]
    }
   ],
   "source": [
    "for i in range(len(channelPeaks)):\n",
    "    print 'Channel ' + str(i+1) + ' Peaks'\n",
    "    print '\\tmean:', chPeakMeans[i]\n",
    "    print '\\tmedian:', chPeakMedians[i]\n",
    "    print '\\tstandard deviation:', chPeakStandardDeviations[i]\n",
    "    print '\\tvariance:', chPeakVariances[i]"
   ]
  },
  {
   "cell_type": "code",
   "execution_count": 30,
   "metadata": {
    "collapsed": false
   },
   "outputs": [],
   "source": [
    "# Do this for all channels, one figure using subplot, each channel with its own subplot\n",
    "fig4 = plt.figure(4, figsize=(9,9))\n",
    "numBins = 50\n",
    "\n",
    "for channelIndex in range(0, numOfChannel):\n",
    "    plt.subplot(np.ceil(np.sqrt(numOfChannel)),np.ceil(np.sqrt(numOfChannel)),channelIndex)\n",
    "    n, bins, patches = plt.hist(channelPeaks[channelIndex],numBins,alpha=0.8)\n",
    "    y = mlab.normpdf( bins, chPeakMeans[channelIndex],chPeakStandardDeviations[channelIndex] )\n",
    "    l = plt.plot(bins, y, 'r--', linewidth=2)\n",
    "\n",
    "plt.show()\n",
    "#for channelIndex in range(0, numOfChannel):\n",
    "    \n",
    "#n, bins, patches = plt.hist(channelPeaks[7],numBins,alpha=0.8)"
   ]
  },
  {
   "cell_type": "code",
   "execution_count": 34,
   "metadata": {
    "collapsed": false
   },
   "outputs": [
    {
     "name": "stdout",
     "output_type": "stream",
     "text": [
      "(5, 5120)\n",
      "(5, 5120)\n",
      "[[  1.05471187e-15   3.32542636e-01   4.43021584e-01 ...,   1.08157696e-01\n",
      "    6.70441611e-02   1.29923202e-01]\n",
      " [  1.52655666e-15   9.64062676e-01   2.71795916e+00 ...,   1.94024364e-01\n",
      "    5.57577640e-02   2.12138290e-01]\n",
      " [  8.52096171e-15   1.02154049e+00   3.28433487e+00 ...,   2.08546563e-01\n",
      "    2.18254819e-01   2.79360810e-01]\n",
      " [  1.33226763e-15   8.90778723e-02   1.10697127e+00 ...,   3.92147149e-01\n",
      "    1.95531666e-02   3.98568705e-01]\n",
      " [  7.77156117e-16   1.31678935e-01   6.25674190e-01 ...,   2.60872866e-02\n",
      "    1.13858311e-03   2.64633103e-02]]\n"
     ]
    }
   ],
   "source": [
    "# plot amp for each channel\n",
    "#for each channel\n",
    "    #for each window\n",
    "        #plot 3d figure with time on horizontal, freqs on vertical, and winAmp as the fluctuating value\n",
    "fig5 = plt.figure(5, figsize=(6,6))\n",
    "\n",
    "plt.plot(arrayOfAmps[0,1,:])\n",
    "plt.show()\n",
    "#print arrayOfAmps[0][0]\n",
    "#ax = Axes3D(fig5)\n",
    "ax = plt.axes(projection='3d')\n",
    "#for channelIndex in range(0, numOfChannel):\n",
    "#print np.shape(arrayOfAmps[0])\n",
    "X = range(0,numOfWindows)\n",
    "y = freqs\n",
    "X,Y = np.meshgrid(x,y)\n",
    "X,Y = X.T,Y.T\n",
    "print np.shape(X)\n",
    "print np.shape(Y)\n",
    "Z = arrayOfAmps[0]\n",
    "print Z\n",
    "Z = Z.reshape(Y.shape)\n",
    "ax.plot_surface(X,Y,Z)\n",
    "plt.show()\n",
    "#for winIndex in range(0, numOfWindows):\n",
    "    \n",
    "    #for lengthOfAmps in range(0, len(freqs)):\n",
    "         #   plt.subplot(ceil(sqrt(numOfChannel)),ceil(sqrt(numOfChannel)),lengthOfAmps)\n",
    "#        ax.plot_surface( arrayOfAmps[0], arrayOfAmps[0][winIndex], arrayOfAmps[0][winIndex][lengthOfAmps] ,  cmap=plt.cm.jet, rstride=1, cstride=1, linewidth=0)    \n",
    "\n",
    "#for zIndex in range(0, len(freqs)):\n",
    "#   ax.plot(arrayOfAmps[channelIndex][winIndex], arrayOfAmps[channelIndex], arrayOfAmps[channelIndex][winIndex][zIndex])"
   ]
  },
  {
   "cell_type": "code",
   "execution_count": null,
   "metadata": {
    "collapsed": true
   },
   "outputs": [],
   "source": []
  }
 ],
 "metadata": {
  "kernelspec": {
   "display_name": "Python 2",
   "language": "python",
   "name": "python2"
  },
  "language_info": {
   "codemirror_mode": {
    "name": "ipython",
    "version": 2
   },
   "file_extension": ".py",
   "mimetype": "text/x-python",
   "name": "python",
   "nbconvert_exporter": "python",
   "pygments_lexer": "ipython2",
   "version": "2.7.10"
  }
 },
 "nbformat": 4,
 "nbformat_minor": 0
}
