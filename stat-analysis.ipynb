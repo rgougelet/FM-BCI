{
 "cells": [
  {
   "cell_type": "code",
   "execution_count": 1,
   "metadata": {
    "collapsed": false
   },
   "outputs": [],
   "source": [
    "#%pylab inline\n",
    "#%config InlineBackend.figure_format = 'retina' "
   ]
  },
  {
   "cell_type": "code",
   "execution_count": 2,
   "metadata": {
    "collapsed": false
   },
   "outputs": [],
   "source": [
    "#here are some common modules:\n",
    "import scipy as sp #library of scientific functions\n",
    "import scipy.io \n",
    "import scipy.signal as signal\n",
    "import numpy as np #library of math functions\n",
    "import pandas as pd #library of data analysis functions\n",
    "import matplotlib.pyplot as plt #functions to plot data\n",
    "import os #This lets python talk to your opperating system to open and save files.\n",
    "from parabolic import parabolic\n",
    "import matplotlib.mlab as mlab\n",
    "from mpl_toolkits.mplot3d import Axes3D"
   ]
  },
  {
   "cell_type": "code",
   "execution_count": 3,
   "metadata": {
    "collapsed": false
   },
   "outputs": [],
   "source": [
    "filename = 'emodat.mat' #adjut file name here\n",
    "filename = os.path.join('../FM-BCI', filename) #adjust filepath \n",
    "datafile = sp.io.loadmat(filename) #loading filename\n",
    "#print datafile.keys()\n",
    "voltageSamples = datafile['data'] \n",
    "#print voltageSamples.shape, len(voltageSamples)"
   ]
  },
  {
   "cell_type": "code",
   "execution_count": 4,
   "metadata": {
    "collapsed": false
   },
   "outputs": [],
   "source": [
    "variances = []\n",
    "means = []\n",
    "medians = []\n",
    "standardDeviations = []\n",
    "for i in range(len(voltageSamples)):\n",
    "    variances.append(np.var(voltageSamples[i,:]))\n",
    "    means.append(np.mean(voltageSamples[i,:]))\n",
    "    medians.append(np.median(voltageSamples[i,:]))\n",
    "    standardDeviations.append(np.std(voltageSamples[i,:]))"
   ]
  },
  {
   "cell_type": "code",
   "execution_count": 5,
   "metadata": {
    "collapsed": false
   },
   "outputs": [
    {
     "name": "stdout",
     "output_type": "stream",
     "text": [
      "Channel 1\n",
      "\tmean: 53.5051604742\n",
      "\tmedian: 8.42684103561\n",
      "\tstandard deviation: 105.317167517\n",
      "\tvariance: 11091.7057739\n"
     ]
    }
   ],
   "source": [
    "for i in range(len(voltageSamples)):\n",
    "    print 'Channel', i+1\n",
    "    print '\\tmean:', means[i]\n",
    "    print '\\tmedian:', medians[i]\n",
    "    print '\\tstandard deviation:', standardDeviations[i]\n",
    "    print '\\tvariance:', np.var(voltageSamples)"
   ]
  },
  {
   "cell_type": "code",
   "execution_count": 6,
   "metadata": {
    "collapsed": false
   },
   "outputs": [],
   "source": [
    "fig1 = plt.figure(1, figsize=(9,6))\n",
    "numBins = 50\n",
    "n, bins, patches = plt.hist(voltageSamples[0],numBins,alpha=0.8)\n"
   ]
  },
  {
   "cell_type": "code",
   "execution_count": 7,
   "metadata": {
    "collapsed": false
   },
   "outputs": [
    {
     "data": {
      "text/plain": [
       "[<matplotlib.lines.Line2D at 0x1090ffd10>]"
      ]
     },
     "execution_count": 7,
     "metadata": {},
     "output_type": "execute_result"
    }
   ],
   "source": [
    "fig2 = plt.figure(2, figsize=(9,6))\n",
    "plt.plot(voltageSamples[0])\n"
   ]
  },
  {
   "cell_type": "code",
   "execution_count": 8,
   "metadata": {
    "collapsed": false
   },
   "outputs": [
    {
     "name": "stdout",
     "output_type": "stream",
     "text": [
      "Channel weights: \n",
      "\n",
      "         1     1.0\n",
      "         2     0.875\n",
      "         3     0.75\n",
      "         4     0.625\n",
      "         5     0.5\n",
      "         6     0.375\n",
      "         7     0.25\n",
      "         8     0.125\n"
     ]
    }
   ],
   "source": [
    "sampleRate = 512 # sample rate assumed during recording\n",
    "sampleSpacing = 1.0 / sampleRate # time between samples in seconds\n",
    "dataLengthSecs = 30 # length of whole recording\n",
    "dataLengthSamples = dataLengthSecs*sampleRate # length of whole recording in samples\n",
    "\n",
    "t = np.arange(0,dataLengthSecs,sampleSpacing) # time vector spanning length in seconds, with approp. num of samples\n",
    "#numOfChannel = voltageSamples.shape[0] # determine number of channels from data, i.e. not predefined\n",
    "numOfChannel = 8\n",
    "voltageSamples = np.empty([numOfChannel, dataLengthSamples])\n",
    "\n",
    "# channel weighting\n",
    "channelWeights = np.linspace(1,1./numOfChannel,numOfChannel) \n",
    "#np.random.shuffle(channelWeights)\n",
    "print 'Channel weights:', '\\n'\n",
    "for channelIndex in range(numOfChannel):\n",
    "    print \"        \", channelIndex+1, \"   \", channelWeights[channelIndex]\n",
    "    \n",
    "# frequency modulation parameters\n",
    "alphaCenter = 10.25   # Hz the carrier frequency\n",
    "alphaModFreq = 1  # Hz the modulating frequency\n",
    "alphaFreqDev = 4   # Hz of the frequency deviation\n",
    "\n",
    "# signal to noise parameters\n",
    "snr = 2             # signal / noise\n",
    "noiseMean = 0\n",
    "noiseStdDev = 0.5\n",
    "alphaMean = 0\n",
    "alphaStdDev = abs(np.sqrt(snr*(noiseStdDev**2))) # std of sine wave\n",
    "alphaAmp = np.sqrt(2)*alphaStdDev\n",
    "h = alphaFreqDev/alphaModFreq         # Modulation index\n",
    "\n",
    "# Constructs 1/f noise by iteratively adding normal random noise, effectively the CDF of normal dist.\n",
    "normalNoise = np.random.normal(noiseMean, noiseStdDev, (1,dataLengthSamples))\n",
    "pinkNoise = np.cumsum(normalNoise)\n",
    "\n",
    "# Frequency modulated alpha rhythm, a sinusoidal baseband signal\n",
    "alpha = alphaAmp*np.sin( alphaCenter  * 2.0 * np.pi * t + alphaFreqDev*np.sin(2 * np.pi * alphaModFreq * t) / alphaModFreq)\n",
    "\n",
    "# assign the weighted alpha rhythm + 1/f noise + additional random noise to each channel in sample\n",
    "for channelIndex in range(0,numOfChannel):\n",
    "    voltageSamples[channelIndex,:] = channelWeights[channelIndex]*alpha + pinkNoise + 0.5*np.random.random([1,dataLengthSamples])    \n",
    "voltageSamples[channelIndex,:] = alpha # change last channel to ground truth alpha\n",
    "\n",
    "fig3 = plt.figure(3, figsize=(9,6))\n",
    "\n",
    "channelArray = np.vsplit(voltageSamples,1)\n",
    "for channelIndex in range(0,numOfChannel):\n",
    "    plt.plot(voltageSamples[channelIndex,1:sampleRate])\n",
    "\n"
   ]
  },
  {
   "cell_type": "code",
   "execution_count": 10,
   "metadata": {
    "collapsed": false
   },
   "outputs": [
    {
     "name": "stdout",
     "output_type": "stream",
     "text": [
      "[[  1.90519515e+02   2.54451559e+00   3.04509218e+00 ...,   7.04690573e-03\n",
      "    7.09547633e-03   1.81753045e+01]\n",
      " [  5.86533484e-03   5.77486340e-03   5.86533484e-03 ...,   3.34732643e-04\n",
      "    8.39316804e+00   3.07888056e-04]\n",
      " [  2.96399521e-04   3.07888055e-04   2.96399521e-04 ...,   2.28426808e+00\n",
      "    7.40601474e-05   7.21721282e-05]\n",
      " ..., \n",
      " [  1.23446634e-05   1.28733468e-05   1.23446634e-05 ...,   5.89897439e-06\n",
      "    6.36154630e-06   5.89897488e-06]\n",
      " [  6.36154723e-06   5.89897386e-06   6.14425336e+00 ...,   2.78017789e-06\n",
      "    2.57473135e-06   2.78017795e-06]\n",
      " [  2.57473137e-06   2.01339621e+00   2.91059910e-06 ...,   9.81260978e-07\n",
      "    8.23069203e-07   9.81260804e-07]]\n"
     ]
    }
   ],
   "source": [
    "def butter_bandpass(lowcut, highcut, fs, order=4):\n",
    "        #lowcut is the lower bound of the frequency that we want to isolate\n",
    "        #hicut is the upper bound of the frequency that we want to isolate\n",
    "        #fs is the sampling rate of our data\n",
    "        nyq = 0.5 * fs #nyquist frequency - see http://www.dspguide.com/ if you want more info\n",
    "        low = float(lowcut) / nyq\n",
    "        high = float(highcut) / nyq\n",
    "        b, a = sp.signal.butter(order, [low, high], btype='band')\n",
    "        return b, a\n",
    "\n",
    "def butter_bandpass_filter(mydata, lowcut, highcut, fs, order=4):\n",
    "    b, a = butter_bandpass(lowcut, highcut, fs, order=order)\n",
    "    y = sp.signal.filtfilt(b, a, mydata)\n",
    "    return y\n",
    "\n",
    "#winLengthSecs = 1 # predefine length of window.\n",
    "#winLengthSamples = winLengthSecs*sampleRate # length of window in samples\n",
    "#numOfWindows = int(dataLengthSamples/winLengthSamples) # determine number of windows\n",
    "#channelPeaks = np.empty([numOfChannel, numOfWindows]) # container for peak frequencies for each channel every second\n",
    "desiredFreqResolution = 0.1 # predefine resolution of spectrum\n",
    "#fftLengthSamples = int(sampleRate/desiredFreqResolution)\n",
    "#nyq = 0.5*sampleRate # maximum possible frequency to measure\n",
    "#freqs = scipy.fftpack.rfftfreq(fftLengthSamples,sampleSpacing) # retrieve frequency axis\n",
    "\n",
    "bandLow = 9.5                                # lower alpha band \n",
    "bandHigh = 10.5                              # higher alpha band\n",
    "orderFilter = 4  \n",
    "\n",
    "# Universal FFT parameters\n",
    "sampleRate = float(sampleRate)\n",
    "numOfChannel = voltageSamples.shape[0]\n",
    "dataLengthSamples = voltageSamples.shape[1]\n",
    "dataLengthSecs = dataLengthSamples / sampleRate\n",
    "sampleSpacing = 1.0/sampleRate        \n",
    "nyq = 0.5 * sampleRate\n",
    "fftLengthSamples = int(sampleRate/desiredFreqResolution)\n",
    "freqs = np.fft.rfftfreq(fftLengthSamples,sampleSpacing)\n",
    "winLengthSamples = 512\n",
    "overlapSamples = 0\n",
    "stepSize = winLengthSamples\n",
    "\n",
    "medianSpecMat = np.empty([numOfChannel, len(freqs)])\n",
    "for channelIndex in range(numOfChannel):\n",
    "    winSpectra = np.empty(len(freqs))\n",
    "    stepIndex = 0\n",
    "    stepIndex = 0\n",
    "    winStart = 0\n",
    "    while winStart + winLengthSamples < dataLengthSamples:\n",
    "        # get next window\n",
    "        winStart = stepIndex*stepSize\n",
    "        winStop = winStart + winLengthSamples\n",
    "        voltageSamplesWin = voltageSamples[channelIndex,winStart:winStop]\n",
    "\n",
    "        # detrend\n",
    "        voltageSamplesWin = signal.detrend(voltageSamplesWin, axis=-1, type='linear')\n",
    "\n",
    "        # window window\n",
    "        windowedWin = voltageSamplesWin * signal.hanning(winLengthSamples)\n",
    "\n",
    "        # compute fft\n",
    "        amp = abs(np.fft.rfft(windowedWin,fftLengthSamples))\n",
    "        winSpectra = np.c_[winSpectra,amp]\n",
    "        stepIndex+=1\n",
    "    winSpectra = winSpectra.T\n",
    "    if channelIndex == 0:\n",
    "        arrayOfAmps = winSpectra\n",
    "        numOfWindows = stepIndex+1\n",
    "    else:\n",
    "        arrayOfAmps= np.dstack([arrayOfAmps, winSpectra])\n",
    "arrayOfAmps = np.reshape(arrayOfAmps,(numOfChannel,numOfWindows,len(freqs)))\n",
    "print medianSpecMat"
   ]
  },
  {
   "cell_type": "code",
   "execution_count": 12,
   "metadata": {
    "collapsed": false
   },
   "outputs": [
    {
     "name": "stdout",
     "output_type": "stream",
     "text": [
      "[  2.58546795e+00   7.76256471e-04   1.07515938e-04   3.43089255e-05\n",
      "   1.48576467e-05   7.28655671e-06   3.55765001e-06   1.30505190e-06]\n",
      "[ 17.58047413   1.68692991   0.6946184    0.5022736    0.5018409\n",
      "   0.49429549   0.42453923   0.42787643]\n"
     ]
    }
   ],
   "source": [
    "print np.median(medianSpecMat,1)\n",
    "print np.mean(medianSpecMat,1)"
   ]
  },
  {
   "cell_type": "code",
   "execution_count": 15,
   "metadata": {
    "collapsed": false
   },
   "outputs": [
    {
     "name": "stdout",
     "output_type": "stream",
     "text": [
      "8\n"
     ]
    }
   ],
   "source": [
    "chPeakVariances = []\n",
    "chPeakMeans = []\n",
    "chPeakMedians = []\n",
    "chPeakStandardDeviations = []\n",
    "\n",
    "print numOfChannel\n",
    "\n",
    "for i in range(len(medianSpecMat)):\n",
    "    chPeakVariances.append(np.var(medianSpecMat[i,:]))\n",
    "    chPeakMeans.append(np.mean(medianSpecMat[i,:]))\n",
    "    chPeakMedians.append(np.median(medianSpecMat[i,:]))\n",
    "    chPeakStandardDeviations.append(np.std(medianSpecMat[i,:]))"
   ]
  },
  {
   "cell_type": "code",
   "execution_count": 14,
   "metadata": {
    "collapsed": false
   },
   "outputs": [
    {
     "name": "stdout",
     "output_type": "stream",
     "text": [
      "Channel 1 Peaks\n",
      "\tmean: 17.5804741313\n",
      "\tmedian: 2.58546794967\n",
      "\tstandard deviation: 30.8914596152\n",
      "\tvariance: 954.282277159\n",
      "Channel 2 Peaks\n",
      "\tmean: 1.68692991212\n",
      "\tmedian: 0.000776256470593\n",
      "\tstandard deviation: 5.06991975374\n",
      "\tvariance: 25.7040863093\n",
      "Channel 3 Peaks\n",
      "\tmean: 0.694618395097\n",
      "\tmedian: 0.000107515937776\n",
      "\tstandard deviation: 2.13237167682\n",
      "\tvariance: 4.54700896809\n",
      "Channel 4 Peaks\n",
      "\tmean: 0.502273602069\n",
      "\tmedian: 3.43089254606e-05\n",
      "\tstandard deviation: 1.54890059978\n",
      "\tvariance: 2.39909306799\n",
      "Channel 5 Peaks\n",
      "\tmean: 0.501840895959\n",
      "\tmedian: 1.48576466608e-05\n",
      "\tstandard deviation: 1.46604382382\n",
      "\tvariance: 2.14928449336\n",
      "Channel 6 Peaks\n",
      "\tmean: 0.494295488674\n",
      "\tmedian: 7.28655670711e-06\n",
      "\tstandard deviation: 1.51714166949\n",
      "\tvariance: 2.3017188453\n",
      "Channel 7 Peaks\n",
      "\tmean: 0.424539229266\n",
      "\tmedian: 3.55765001137e-06\n",
      "\tstandard deviation: 1.25467539458\n",
      "\tvariance: 1.57421034577\n",
      "Channel 8 Peaks\n",
      "\tmean: 0.427876430277\n",
      "\tmedian: 1.3050519027e-06\n",
      "\tstandard deviation: 1.29380592243\n",
      "\tvariance: 1.67393376493\n"
     ]
    }
   ],
   "source": [
    "for i in range(len(medianSpecMat)):\n",
    "    print 'Channel ' + str(i+1) + ' Peaks'\n",
    "    print '\\tmean:', chPeakMeans[i]\n",
    "    print '\\tmedian:', chPeakMedians[i]\n",
    "    print '\\tstandard deviation:', chPeakStandardDeviations[i]\n",
    "    print '\\tvariance:', chPeakVariances[i]"
   ]
  },
  {
   "cell_type": "code",
   "execution_count": 29,
   "metadata": {
    "collapsed": false
   },
   "outputs": [
    {
     "name": "stdout",
     "output_type": "stream",
     "text": [
      "0\n"
     ]
    },
    {
     "ename": "ValueError",
     "evalue": "num must be 1 <= num <= 9, not 0",
     "output_type": "error",
     "traceback": [
      "\u001b[0;31m---------------------------------------------------------------------------\u001b[0m",
      "\u001b[0;31mValueError\u001b[0m                                Traceback (most recent call last)",
      "\u001b[0;32m<ipython-input-29-98db70e14cdf>\u001b[0m in \u001b[0;36m<module>\u001b[0;34m()\u001b[0m\n\u001b[1;32m      5\u001b[0m \u001b[0;32mfor\u001b[0m \u001b[0mchannelIndex\u001b[0m \u001b[0;32min\u001b[0m \u001b[0mrange\u001b[0m\u001b[0;34m(\u001b[0m\u001b[0;36m0\u001b[0m\u001b[0;34m,\u001b[0m \u001b[0mnumOfChannel\u001b[0m\u001b[0;34m)\u001b[0m\u001b[0;34m:\u001b[0m\u001b[0;34m\u001b[0m\u001b[0m\n\u001b[1;32m      6\u001b[0m     \u001b[0;32mprint\u001b[0m \u001b[0mchannelIndex\u001b[0m\u001b[0;34m\u001b[0m\u001b[0m\n\u001b[0;32m----> 7\u001b[0;31m     \u001b[0mplt\u001b[0m\u001b[0;34m.\u001b[0m\u001b[0msubplot\u001b[0m\u001b[0;34m(\u001b[0m\u001b[0mnp\u001b[0m\u001b[0;34m.\u001b[0m\u001b[0mceil\u001b[0m\u001b[0;34m(\u001b[0m\u001b[0mnp\u001b[0m\u001b[0;34m.\u001b[0m\u001b[0msqrt\u001b[0m\u001b[0;34m(\u001b[0m\u001b[0mnumOfChannel\u001b[0m\u001b[0;34m)\u001b[0m\u001b[0;34m)\u001b[0m\u001b[0;34m,\u001b[0m\u001b[0mnp\u001b[0m\u001b[0;34m.\u001b[0m\u001b[0mceil\u001b[0m\u001b[0;34m(\u001b[0m\u001b[0mnp\u001b[0m\u001b[0;34m.\u001b[0m\u001b[0msqrt\u001b[0m\u001b[0;34m(\u001b[0m\u001b[0mnumOfChannel\u001b[0m\u001b[0;34m)\u001b[0m\u001b[0;34m)\u001b[0m\u001b[0;34m,\u001b[0m\u001b[0mchannelIndex\u001b[0m\u001b[0;34m)\u001b[0m\u001b[0;34m\u001b[0m\u001b[0m\n\u001b[0m\u001b[1;32m      8\u001b[0m     \u001b[0;32mprint\u001b[0m \u001b[0mchannelIndex\u001b[0m\u001b[0;34m\u001b[0m\u001b[0m\n\u001b[1;32m      9\u001b[0m     \u001b[0mn\u001b[0m\u001b[0;34m,\u001b[0m \u001b[0mbins\u001b[0m\u001b[0;34m,\u001b[0m \u001b[0mpatches\u001b[0m \u001b[0;34m=\u001b[0m \u001b[0mplt\u001b[0m\u001b[0;34m.\u001b[0m\u001b[0mhist\u001b[0m\u001b[0;34m(\u001b[0m\u001b[0mmedianSpecMat\u001b[0m\u001b[0;34m[\u001b[0m\u001b[0mchannelIndex\u001b[0m\u001b[0;34m]\u001b[0m\u001b[0;34m,\u001b[0m\u001b[0mnumBins\u001b[0m\u001b[0;34m,\u001b[0m\u001b[0malpha\u001b[0m\u001b[0;34m=\u001b[0m\u001b[0;36m0.8\u001b[0m\u001b[0;34m)\u001b[0m\u001b[0;34m\u001b[0m\u001b[0m\n",
      "\u001b[0;32m//anaconda/lib/python2.7/site-packages/matplotlib/pyplot.py\u001b[0m in \u001b[0;36msubplot\u001b[0;34m(*args, **kwargs)\u001b[0m\n\u001b[1;32m   1020\u001b[0m \u001b[0;34m\u001b[0m\u001b[0m\n\u001b[1;32m   1021\u001b[0m     \u001b[0mfig\u001b[0m \u001b[0;34m=\u001b[0m \u001b[0mgcf\u001b[0m\u001b[0;34m(\u001b[0m\u001b[0;34m)\u001b[0m\u001b[0;34m\u001b[0m\u001b[0m\n\u001b[0;32m-> 1022\u001b[0;31m     \u001b[0ma\u001b[0m \u001b[0;34m=\u001b[0m \u001b[0mfig\u001b[0m\u001b[0;34m.\u001b[0m\u001b[0madd_subplot\u001b[0m\u001b[0;34m(\u001b[0m\u001b[0;34m*\u001b[0m\u001b[0margs\u001b[0m\u001b[0;34m,\u001b[0m \u001b[0;34m**\u001b[0m\u001b[0mkwargs\u001b[0m\u001b[0;34m)\u001b[0m\u001b[0;34m\u001b[0m\u001b[0m\n\u001b[0m\u001b[1;32m   1023\u001b[0m     \u001b[0mbbox\u001b[0m \u001b[0;34m=\u001b[0m \u001b[0ma\u001b[0m\u001b[0;34m.\u001b[0m\u001b[0mbbox\u001b[0m\u001b[0;34m\u001b[0m\u001b[0m\n\u001b[1;32m   1024\u001b[0m     \u001b[0mbyebye\u001b[0m \u001b[0;34m=\u001b[0m \u001b[0;34m[\u001b[0m\u001b[0;34m]\u001b[0m\u001b[0;34m\u001b[0m\u001b[0m\n",
      "\u001b[0;32m//anaconda/lib/python2.7/site-packages/matplotlib/figure.py\u001b[0m in \u001b[0;36madd_subplot\u001b[0;34m(self, *args, **kwargs)\u001b[0m\n\u001b[1;32m   1003\u001b[0m                     \u001b[0mself\u001b[0m\u001b[0;34m.\u001b[0m\u001b[0m_axstack\u001b[0m\u001b[0;34m.\u001b[0m\u001b[0mremove\u001b[0m\u001b[0;34m(\u001b[0m\u001b[0max\u001b[0m\u001b[0;34m)\u001b[0m\u001b[0;34m\u001b[0m\u001b[0m\n\u001b[1;32m   1004\u001b[0m \u001b[0;34m\u001b[0m\u001b[0m\n\u001b[0;32m-> 1005\u001b[0;31m             \u001b[0ma\u001b[0m \u001b[0;34m=\u001b[0m \u001b[0msubplot_class_factory\u001b[0m\u001b[0;34m(\u001b[0m\u001b[0mprojection_class\u001b[0m\u001b[0;34m)\u001b[0m\u001b[0;34m(\u001b[0m\u001b[0mself\u001b[0m\u001b[0;34m,\u001b[0m \u001b[0;34m*\u001b[0m\u001b[0margs\u001b[0m\u001b[0;34m,\u001b[0m \u001b[0;34m**\u001b[0m\u001b[0mkwargs\u001b[0m\u001b[0;34m)\u001b[0m\u001b[0;34m\u001b[0m\u001b[0m\n\u001b[0m\u001b[1;32m   1006\u001b[0m \u001b[0;34m\u001b[0m\u001b[0m\n\u001b[1;32m   1007\u001b[0m         \u001b[0mself\u001b[0m\u001b[0;34m.\u001b[0m\u001b[0m_axstack\u001b[0m\u001b[0;34m.\u001b[0m\u001b[0madd\u001b[0m\u001b[0;34m(\u001b[0m\u001b[0mkey\u001b[0m\u001b[0;34m,\u001b[0m \u001b[0ma\u001b[0m\u001b[0;34m)\u001b[0m\u001b[0;34m\u001b[0m\u001b[0m\n",
      "\u001b[0;32m//anaconda/lib/python2.7/site-packages/matplotlib/axes/_subplots.py\u001b[0m in \u001b[0;36m__init__\u001b[0;34m(self, fig, *args, **kwargs)\u001b[0m\n\u001b[1;32m     62\u001b[0m                     raise ValueError(\n\u001b[1;32m     63\u001b[0m                         \"num must be 1 <= num <= {maxn}, not {num}\".format(\n\u001b[0;32m---> 64\u001b[0;31m                             maxn=rows*cols, num=num))\n\u001b[0m\u001b[1;32m     65\u001b[0m                 \u001b[0mself\u001b[0m\u001b[0;34m.\u001b[0m\u001b[0m_subplotspec\u001b[0m \u001b[0;34m=\u001b[0m \u001b[0mGridSpec\u001b[0m\u001b[0;34m(\u001b[0m\u001b[0mrows\u001b[0m\u001b[0;34m,\u001b[0m \u001b[0mcols\u001b[0m\u001b[0;34m)\u001b[0m\u001b[0;34m[\u001b[0m\u001b[0mint\u001b[0m\u001b[0;34m(\u001b[0m\u001b[0mnum\u001b[0m\u001b[0;34m)\u001b[0m \u001b[0;34m-\u001b[0m \u001b[0;36m1\u001b[0m\u001b[0;34m]\u001b[0m\u001b[0;34m\u001b[0m\u001b[0m\n\u001b[1;32m     66\u001b[0m                 \u001b[0;31m# num - 1 for converting from MATLAB to python indexing\u001b[0m\u001b[0;34m\u001b[0m\u001b[0;34m\u001b[0m\u001b[0m\n",
      "\u001b[0;31mValueError\u001b[0m: num must be 1 <= num <= 9, not 0"
     ]
    }
   ],
   "source": [
    "# Do this for all channels, one figure using subplot, each channel with its own subplot\n",
    "fig4 = plt.figure(4, figsize=(9,9))\n",
    "numBins = 50\n",
    "\n",
    "for channelIndex in range(0, numOfChannel):\n",
    "    print channelIndex\n",
    "    plt.subplot(np.ceil(np.sqrt(numOfChannel)),np.ceil(np.sqrt(numOfChannel)),channelIndex)\n",
    "    print channelIndex\n",
    "    n, bins, patches = plt.hist(medianSpecMat[channelIndex],numBins,alpha=0.8)\n",
    "    y = mlab.normpdf( bins, chPeakMeans[channelIndex],chPeakStandardDeviations[channelIndex] )\n",
    "    l = plt.plot(bins, y, 'r--', linewidth=2)\n",
    "\n",
    "for channelIndex in range(0, numOfChannel):\n",
    "    n, bins, patches = plt.hist(medianSpecMat[7],numBins,alpha=0.8)\n",
    "    #plt.show()"
   ]
  },
  {
   "cell_type": "code",
   "execution_count": 28,
   "metadata": {
    "collapsed": false
   },
   "outputs": [
    {
     "name": "stdout",
     "output_type": "stream",
     "text": [
      "(31, 2561)\n",
      "(31, 2561)\n",
      "[[  0.00000000e+00   1.93015606e+02   1.94256514e+02 ...,   1.40582256e+01\n",
      "    1.82093528e+01   6.40000000e+00]\n",
      " [  1.59139628e+01   1.56683388e+01   1.78025210e+01 ...,   9.39808571e+00\n",
      "    3.84000000e+01   9.16892314e+00]\n",
      " [  9.03026808e+00   8.85456178e+00   1.06695956e+01 ...,   7.04000000e+01\n",
      "    3.29341503e+00   3.84176302e+00]\n",
      " ..., \n",
      " [  1.71505316e+00   3.57403604e+00   4.81977645e+00 ...,   7.48542664e+00\n",
      "    2.82316144e+00   4.85640794e+00]\n",
      " [  5.55939190e+00   6.15599129e+00   1.23446635e-05 ...,   8.57533799e+00\n",
      "    5.39325291e+00   5.38571898e+00]\n",
      " [  5.92367337e+00   5.89897439e-06   3.68738771e+00 ...,   1.52508229e+00\n",
      "    2.88847939e+00   2.64135269e+00]]\n"
     ]
    }
   ],
   "source": [
    "# plot amp for each channel\n",
    "#for each channel\n",
    "    #for each window\n",
    "        #plot 3d figure with time on horizontal, freqs on vertical, and winAmp as the fluctuating value\n",
    "fig5 = plt.figure(5, figsize=(6,6))\n",
    "\n",
    "#plt.plot(arrayOfAmps[0,1,:])\n",
    "#plt.show()\n",
    "#print arrayOfAmps[0][0]\n",
    "#ax = Axes3D(fig5)\n",
    "ax = plt.axes(projection='3d')\n",
    "#for channelIndex in range(0, numOfChannel):\n",
    "#print np.shape(arrayOfAmps[0])\n",
    "x = range(0,numOfWindows)\n",
    "y = freqs\n",
    "X,Y = np.meshgrid(x,y)\n",
    "X,Y = X.T,Y.T\n",
    "print np.shape(X)\n",
    "print np.shape(Y)\n",
    "Z = arrayOfAmps[0]\n",
    "print Z\n",
    "Z = Z.reshape(Y.shape)\n",
    "ax.plot_surface(X,Y,Z)\n",
    "#plt.ylim(0,12)\n",
    "plt.show()\n",
    "#for winIndex in range(0, numOfWindows):\n",
    "    \n",
    "    #for lengthOfAmps in range(0, len(freqs)):\n",
    "         #   plt.subplot(ceil(sqrt(numOfChannel)),ceil(sqrt(numOfChannel)),lengthOfAmps)\n",
    "#        ax.plot_surface( arrayOfAmps[0], arrayOfAmps[0][winIndex], arrayOfAmps[0][winIndex][lengthOfAmps] ,  cmap=plt.cm.jet, rstride=1, cstride=1, linewidth=0)    \n",
    "\n",
    "#for zIndex in range(0, len(freqs)):\n",
    "#   ax.plot(arrayOfAmps[channelIndex][winIndex], arrayOfAmps[channelIndex], arrayOfAmps[channelIndex][winIndex][zIndex])"
   ]
  },
  {
   "cell_type": "code",
   "execution_count": null,
   "metadata": {
    "collapsed": true
   },
   "outputs": [],
   "source": []
  }
 ],
 "metadata": {
  "kernelspec": {
   "display_name": "Python 2",
   "language": "python",
   "name": "python2"
  },
  "language_info": {
   "codemirror_mode": {
    "name": "ipython",
    "version": 2
   },
   "file_extension": ".py",
   "mimetype": "text/x-python",
   "name": "python",
   "nbconvert_exporter": "python",
   "pygments_lexer": "ipython2",
   "version": "2.7.11"
  }
 },
 "nbformat": 4,
 "nbformat_minor": 0
}
