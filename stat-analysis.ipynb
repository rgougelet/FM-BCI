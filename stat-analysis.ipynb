{
 "cells": [
  {
   "cell_type": "code",
   "execution_count": 2,
   "metadata": {
    "collapsed": false
   },
   "outputs": [
    {
     "name": "stdout",
     "output_type": "stream",
     "text": [
      "Populating the interactive namespace from numpy and matplotlib\n"
     ]
    }
   ],
   "source": [
    "%pylab inline\n",
    "%config InlineBackend.figure_format = 'retina' "
   ]
  },
  {
   "cell_type": "code",
   "execution_count": 3,
   "metadata": {
    "collapsed": false
   },
   "outputs": [],
   "source": [
    "#here are some common modules:\n",
    "import scipy as sp #library of scientific functions\n",
    "import scipy.io \n",
    "from scipy.signal import welch\n",
    "import numpy as np #library of math functions\n",
    "import pandas as pd #library of data analysis functions\n",
    "import matplotlib.pyplot as plt #functions to plot data\n",
    "import os #This lets python talk to your opperating system to open and save files."
   ]
  },
  {
   "cell_type": "code",
   "execution_count": 4,
   "metadata": {
    "collapsed": false
   },
   "outputs": [
    {
     "name": "stdout",
     "output_type": "stream",
     "text": [
      "['srate', 'onsets', '__header__', 'psd', '__globals__', '__version__', 'data', 'cfs']\n",
      "(1, 1476035) 1\n"
     ]
    }
   ],
   "source": [
    "filename = 'emodat.mat'; #adjut file name here\n",
    "\n",
    "filename = os.path.join('/Users/alicia/Desktop/bci-lab/tutorials/', filename) #adjust filepath \n",
    "\n",
    "datafile = sp.io.loadmat(filename) #loading filename\n",
    "print datafile.keys()\n",
    "data = datafile['data']; \n",
    "print data.shape, len(data)"
   ]
  },
  {
   "cell_type": "code",
   "execution_count": 11,
   "metadata": {
    "collapsed": false
   },
   "outputs": [],
   "source": [
    "variances = []\n",
    "means = []\n",
    "medians = []\n",
    "standardDeviations = []\n",
    "for i in range(len(data)):\n",
    "    variances.append(np.var(data[i]))\n",
    "    means.append(np.mean(data[i]))\n",
    "    medians.append(np.median(data[i]))\n",
    "    standardDeviations.append(np.std(data[i]))"
   ]
  },
  {
   "cell_type": "code",
   "execution_count": 10,
   "metadata": {
    "collapsed": false
   },
   "outputs": [
    {
     "name": "stdout",
     "output_type": "stream",
     "text": [
      "Row 0\n",
      "\tmean: 53.5051604742\n",
      "\tmedian: 8.42684103561\n",
      "\tstandard deviation: 105.317167517\n",
      "\tvariance: 11091.7057739\n"
     ]
    }
   ],
   "source": [
    "for i in range(len(data)):\n",
    "    print 'Row', i\n",
    "    print '\\tmean:', means[i]\n",
    "    print '\\tmedian:', medians[i]\n",
    "    print '\\tstandard deviation:', standardDeviations[i]\n",
    "    print '\\tvariance:', variances[i]"
   ]
  },
  {
   "cell_type": "code",
   "execution_count": null,
   "metadata": {
    "collapsed": true
   },
   "outputs": [],
   "source": []
  }
 ],
 "metadata": {
  "kernelspec": {
   "display_name": "Python 2",
   "language": "python",
   "name": "python2"
  },
  "language_info": {
   "codemirror_mode": {
    "name": "ipython",
    "version": 2
   },
   "file_extension": ".py",
   "mimetype": "text/x-python",
   "name": "python",
   "nbconvert_exporter": "python",
   "pygments_lexer": "ipython2",
   "version": "2.7.10"
  }
 },
 "nbformat": 4,
 "nbformat_minor": 0
}
